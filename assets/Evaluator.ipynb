{
 "cells": [
  {
   "attachments": {},
   "cell_type": "markdown",
   "metadata": {},
   "source": [
    "---\n",
    "title: Resultados da Avaliação\n",
    "format: pdf\n",
    "execute:\n",
    "    echo: false\n",
    "    warning: false\n",
    "---"
   ]
  },
  {
   "cell_type": "code",
   "execution_count": null,
   "metadata": {},
   "outputs": [],
   "source": [
    "import numpy as np\n",
    "import pandas as pd\n",
    "import matplotlib.pyplot as plt\n",
    "import yfinance as yf\n",
    "from dotenv import dotenv_values\n",
    "from os import system\n",
    "from os.path import abspath\n",
    "\n",
    "\n",
    "\n",
    "envVals = dotenv_values('../.env')\n",
    "\n",
    "def despine(ax):\n",
    "  # Hiding spines\n",
    "  ax.spines['right'].set_visible(False)\n",
    "  ax.spines['top'].set_visible(False)\n",
    "\n",
    "  # Setting\n",
    "  ax.yaxis.set_ticks_position('left')\n",
    "  ax.xaxis.set_ticks_position('bottom')\n"
   ]
  },
  {
   "cell_type": "code",
   "execution_count": null,
   "metadata": {},
   "outputs": [],
   "source": [
    "# Abrindo indicadores em um DataFrame\n",
    "dataPath = abspath('../data') + '/' + envVals['TICKER'] + '.json'\n",
    "indicadoresDf = pd.read_json(dataPath)\n",
    "\n",
    "# Abrindo histórico de cotações da ação em um segundo DataFrame\n",
    "yahooTicker = envVals['TICKER'] + '.SA'\n",
    "\n",
    "tk = yf.Ticker(yahooTicker)\n",
    "tickerDf = tk.history('5y')\n"
   ]
  },
  {
   "attachments": {},
   "cell_type": "markdown",
   "metadata": {},
   "source": [
    "## Histórico de Indicadores Fundamentalistas\n",
    "\n",
    "Os gráficos à seguir tem a intenção de detalhar o histórico de alguns indicadores fundamentalistas referentes ao Ticker em questão. (P/L, DY, VPA, P/VP) "
   ]
  },
  {
   "cell_type": "code",
   "execution_count": null,
   "metadata": {},
   "outputs": [],
   "source": []
  },
  {
   "cell_type": "code",
   "execution_count": null,
   "metadata": {},
   "outputs": [],
   "source": [
    "valores = [pd.DataFrame(indicadoresDf['P/L']['series']), pd.DataFrame(indicadoresDf['Dividend Yield']['series']),pd.DataFrame(indicadoresDf['VPA']['series']), pd.DataFrame(indicadoresDf['P/VP']['series'])]\n",
    "\n",
    "indexes = ['P/L', 'Dividend Yield', 'VPA', 'P/VP']\n",
    "\n",
    "fig, vax = plt.subplots(2, 2)\n",
    "\n",
    "fig.set_figheight(10)\n",
    "fig.set_figwidth(18)\n",
    "\n",
    "fig.suptitle(f'Indicadores Fundamentalistas {yahooTicker}', fontsize=24)\n",
    "\n",
    "for ax, data, name in zip(vax.flat, valores, indexes):\n",
    "    despine(ax)\n",
    "    ax.set_title(f'{name}')\n",
    "    ax.plot(data['year'], data['value'])\n",
    "\n",
    "    for i in range(len(data)):\n",
    "        ax.text(data['year'][i], round(data['value'][i], 2), f'{data[\"value\"][i]:.2f}' , size=12)\n",
    "\n",
    "\n",
    "plt.show()"
   ]
  },
  {
   "attachments": {},
   "cell_type": "markdown",
   "metadata": {},
   "source": [
    "## Cálculo do valor pelo método de Graham\n",
    "\n",
    "O método de Graham utiliza de dois indicadores fundamentalistas: $LPA$ e $VPA$, para realizar o cálculo do \"Valor Justo\" de uma ação, ou seja, o valor que ela deveria ter de acordo com seus indicadores fundamentalistas. O cálculo é realizado através da seguinte fórmula:\n",
    "\n",
    "$$\n",
    "\\sqrt{22.5 * LPA * VPA}\n",
    "$$\n",
    "\n",
    "Além disso, é calculada também uma margem de segurança em relação ao preço ideal de uma ação, que é um decréscimo de 15-30% do valor ideal. O valor de margem de segurança é subjetivo, e deve variar de acordo com a empresa."
   ]
  },
  {
   "cell_type": "code",
   "execution_count": null,
   "metadata": {},
   "outputs": [],
   "source": [
    "graham = np.sqrt(22.5 * indicadoresDf['VPA']['currentValue'] * indicadoresDf['LPA']['currentValue'])\n",
    "\n",
    "safetyMargin = graham - float(envVals['SAFETY']) * graham\n",
    "safetyMargin20 = graham - 0.2 * graham\n",
    "\n",
    "safetypercent = float(envVals['SAFETY']) * 100"
   ]
  },
  {
   "cell_type": "code",
   "execution_count": null,
   "metadata": {},
   "outputs": [],
   "source": [
    "\n",
    "fig, ax= plt.subplots(1, 1, constrained_layout =True)\n",
    "\n",
    "# Plotando valor de Graham atual vs COtação\n",
    "ax.axhline(y=graham, color='green', linestyle='dashed', label=f'Graham: R${graham:.2f}')\n",
    "\n",
    "ax.axhline(y=safetyMargin, color='red', linestyle='dashed', label=f'Margem de segurança ({safetypercent}%): R${safetyMargin:.2f}')\n",
    "\n",
    "ax.axhline(y=safetyMargin20, color='orange', linestyle='dashed', label=f'Margem de segurança (20.0%): R${safetyMargin20:.2f}')\n",
    "\n",
    "ax.plot(tickerDf['Close'], label='Preço de fechamento')\n",
    "\n",
    "despine(ax)\n",
    "\n",
    "fig.suptitle(f\"Análise de Graham {yahooTicker}\")\n",
    "\n",
    "ax.legend()"
   ]
  }
 ],
 "metadata": {
  "kernelspec": {
   "display_name": "venv",
   "language": "python",
   "name": "python3"
  },
  "language_info": {
   "codemirror_mode": {
    "name": "ipython",
    "version": 3
   },
   "file_extension": ".py",
   "mimetype": "text/x-python",
   "name": "python",
   "nbconvert_exporter": "python",
   "pygments_lexer": "ipython3",
   "version": "3.10.6"
  }
 },
 "nbformat": 4,
 "nbformat_minor": 2
}
