{
 "cells": [
  {
   "attachments": {},
   "cell_type": "markdown",
   "metadata": {},
   "source": [
    "---\n",
    "title: Teste\n",
    "format: pdf\n",
    "execute:\n",
    "    echo: false\n",
    "---"
   ]
  },
  {
   "attachments": {},
   "cell_type": "markdown",
   "metadata": {},
   "source": [
    "# Avaliador de Ações\n",
    "\n",
    "\n"
   ]
  },
  {
   "cell_type": "code",
   "execution_count": 1,
   "metadata": {},
   "outputs": [],
   "source": [
    "import numpy as np\n",
    "import pandas as pd\n",
    "import matplotlib.pyplot as plt\n",
    "import yfinance as yf\n",
    "from dotenv import dotenv_values\n",
    "from os import system\n",
    "from os.path import abspath\n",
    "\n",
    "\n",
    "\n",
    "envVals = dotenv_values('../.env')\n",
    "\n",
    "def despine(ax):\n",
    "  # Hiding spines\n",
    "  ax.spines['right'].set_visible(False)\n",
    "  ax.spines['top'].set_visible(False)\n",
    "\n",
    "  # Setting\n",
    "  ax.yaxis.set_ticks_position('left')\n",
    "  ax.xaxis.set_ticks_position('bottom')\n"
   ]
  },
  {
   "cell_type": "code",
   "execution_count": 2,
   "metadata": {},
   "outputs": [
    {
     "name": "stderr",
     "output_type": "stream",
     "text": [
      "node:internal/modules/cjs/loader:959\n",
      "  throw err;\n",
      "  ^\n",
      "\n",
      "Error: Cannot find module '/home/gcastelo/Documents/Pessoal/StockValuation/assets/scripts/getData.js'\n",
      "    at Function.Module._resolveFilename (node:internal/modules/cjs/loader:956:15)\n",
      "    at Function.Module._load (node:internal/modules/cjs/loader:804:27)\n",
      "    at Function.executeUserEntryPoint [as runMain] (node:internal/modules/run_main:81:12)\n",
      "    at node:internal/main/run_main_module:17:47 {\n",
      "  code: 'MODULE_NOT_FOUND',\n",
      "  requireStack: []\n",
      "}\n"
     ]
    },
    {
     "data": {
      "text/plain": [
       "256"
      ]
     },
     "execution_count": 5,
     "metadata": {},
     "output_type": "execute_result"
    }
   ],
   "source": [
    "# Fazendo busca dos dados do ticker\n",
    "\n",
    "system(f\"node ./scripts/getData.js {envVals['TICKER']}\")"
   ]
  },
  {
   "cell_type": "code",
   "execution_count": 3,
   "metadata": {},
   "outputs": [],
   "source": [
    "# Abrindo indicadores em um DataFrame\n",
    "dataPath = abspath('../data') + '/' + envVals['TICKER'] + '.json'\n",
    "indicadoresDf = pd.read_json(dataPath)\n",
    "\n",
    "# Abrindo histórico de cotações da ação em um segundo DataFrame\n",
    "yahooTicker = envVals['TICKER'] + '.SA'\n",
    "\n",
    "tk = yf.Ticker(yahooTicker)\n",
    "tickerDf = tk.history('5y')\n"
   ]
  },
  {
   "attachments": {},
   "cell_type": "markdown",
   "metadata": {},
   "source": [
    "## Histórico de Indicadores Fundamentalistas\n",
    "\n",
    "Os gráficos à seguir tem a intenção de detalhar o histórico de alguns indicadores fundamentalistas referentes ao Ticker em análise. (P/L, DY, VPA, P/VP) "
   ]
  },
  {
   "cell_type": "code",
   "execution_count": 4,
   "metadata": {},
   "outputs": [
    {
     "name": "stderr",
     "output_type": "stream",
     "text": [
      "posx and posy should be finite values\n"
     ]
    },
    {
     "name": "stderr",
     "output_type": "stream",
     "text": [
      "posx and posy should be finite values\n"
     ]
    },
    {
     "name": "stderr",
     "output_type": "stream",
     "text": [
      "posx and posy should be finite values\n"
     ]
    },
    {
     "name": "stderr",
     "output_type": "stream",
     "text": [
      "posx and posy should be finite values\n"
     ]
    },
    {
     "name": "stderr",
     "output_type": "stream",
     "text": [
      "posx and posy should be finite values\n"
     ]
    },
    {
     "name": "stderr",
     "output_type": "stream",
     "text": [
      "posx and posy should be finite values\n"
     ]
    },
    {
     "name": "stderr",
     "output_type": "stream",
     "text": [
      "posx and posy should be finite values\n"
     ]
    },
    {
     "name": "stderr",
     "output_type": "stream",
     "text": [
      "posx and posy should be finite values\n"
     ]
    },
    {
     "name": "stdout",
     "output_type": "stream",
     "text": [
      "6.7295\n",
      "5.9925\n",
      "5.9179\n",
      "7.5882000000000005\n",
      "6.4322\n",
      "11.8924\n",
      "8.64\n",
      "29.0299\n",
      "3.1261\n",
      "5.2735\n",
      "4.3453\n",
      "4.513\n",
      "9.3995\n",
      "nan\n",
      "nan\n",
      "12.6324\n",
      "13.7546\n",
      "8.9706\n",
      "4.293\n",
      "5.2582\n",
      "4.6486\n",
      "3.5453\n",
      "8.3903\n",
      "9.948\n",
      "25.1395\n",
      "14.1518\n",
      "25.5192\n",
      "9.0158\n",
      "nan\n",
      "nan\n",
      "9.8953\n",
      "9.8953\n",
      "11.4898\n",
      "11.5046\n",
      "10.8905\n",
      "9.994\n",
      "11.3803\n",
      "10.2716\n",
      "10.314\n",
      "8.9613\n",
      "13.1284\n",
      "13.5402\n",
      "17.2109\n",
      "nan\n",
      "nan\n",
      "1.2642\n",
      "1.1258\n",
      "1.141\n",
      "1.2438\n",
      "1.2662\n",
      "1.3868\n",
      "0.6037\n",
      "0.7506\n",
      "0.5943\n",
      "1.4663\n",
      "1.0672\n",
      "1.6691\n",
      "1.9331\n",
      "nan\n",
      "nan\n"
     ]
    },
    {
     "name": "stderr",
     "output_type": "stream",
     "text": [
      "posx and posy should be finite values\n"
     ]
    },
    {
     "name": "stderr",
     "output_type": "stream",
     "text": [
      "posx and posy should be finite values\n"
     ]
    },
    {
     "name": "stderr",
     "output_type": "stream",
     "text": [
      "posx and posy should be finite values\n"
     ]
    },
    {
     "name": "stderr",
     "output_type": "stream",
     "text": [
      "posx and posy should be finite values\n"
     ]
    },
    {
     "name": "stderr",
     "output_type": "stream",
     "text": [
      "posx and posy should be finite values\n"
     ]
    },
    {
     "name": "stderr",
     "output_type": "stream",
     "text": [
      "posx and posy should be finite values\n"
     ]
    },
    {
     "name": "stderr",
     "output_type": "stream",
     "text": [
      "posx and posy should be finite values\n"
     ]
    },
    {
     "name": "stderr",
     "output_type": "stream",
     "text": [
      "posx and posy should be finite values\n"
     ]
    },
    {
     "data": {
      "application/pdf": "[encoded data removed]",
      "text/plain": [
       "<Figure size 5400x3000 with 4 Axes>"
      ]
     },
     "metadata": {},
     "output_type": "display_data"
    }
   ],
   "source": [
    "valores = [pd.DataFrame(indicadoresDf['P/L']['series']), pd.DataFrame(indicadoresDf['Dividend Yield']['series']),pd.DataFrame(indicadoresDf['VPA']['series']), pd.DataFrame(indicadoresDf['P/VP']['series'])]\n",
    "\n",
    "indexes = ['P/L', 'Dividend Yield', 'VPA', 'P/VP']\n",
    "\n",
    "fig, vax = plt.subplots(2, 2)\n",
    "\n",
    "fig.set_figheight(10)\n",
    "fig.set_figwidth(18)\n",
    "\n",
    "for ax, data, name in zip(vax.flat, valores, indexes):\n",
    "    \n",
    "    despine(ax)\n",
    "    ax.set_title(f'{name}')\n",
    "    ax.plot(data['year'], data['value'])\n",
    "\n",
    "    for i in range(len(data)):\n",
    "        print(data['value'][i])\n",
    "        ax.text(data['year'][i], round(data['value'][i], 2), f'{data[\"value\"][i]:.2f}' , size=12)\n",
    "\n",
    "\n",
    "plt.show()"
   ]
  },
  {
   "attachments": {},
   "cell_type": "markdown",
   "metadata": {},
   "source": [
    "## Cálculo do valor pelo método de Graham\n",
    "\n",
    "O método de Graham utiliza de dois indicadores fundamentalistas: $LPA$ e $VPA$, para realizar o cálculo do \"Valor Justo\" de uma ação, ou seja, o valor que ela deveria ter de acordo com seus indicadores fundamentalistas. O cálculo é realizado através da seguinte fórmula:\n",
    "\n",
    "$$\n",
    "\\sqrt{22.5 * LPA * VPA}\n",
    "$$\n",
    "\n",
    "Além disso, é calculada também uma margem de segurança em relação ao preço ideal de uma ação, que é um decréscimo de 15-30% do valor ideal. O valor de margem de segurança é subjetivo, e deve variar de acordo com a empresa."
   ]
  },
  {
   "cell_type": "code",
   "execution_count": 5,
   "metadata": {},
   "outputs": [],
   "source": [
    "graham = np.sqrt(22.5 * indicadoresDf['VPA']['currentValue'] * indicadoresDf['LPA']['currentValue'])\n",
    "safetyMargin = graham - float(envVals['SAFETY']) * graham\n",
    "safetypercent = float(envVals['SAFETY']) * 100"
   ]
  },
  {
   "cell_type": "code",
   "execution_count": 6,
   "metadata": {},
   "outputs": [
    {
     "data": {
      "text/plain": [
       "<matplotlib.legend.Legend at 0x7fd5e96e4c70>"
      ]
     },
     "execution_count": 9,
     "metadata": {},
     "output_type": "execute_result"
    },
    {
     "data": {
      "application/pdf": "[encoded data removed]",
      "text/plain": [
       "<Figure size 1650x1050 with 1 Axes>"
      ]
     },
     "metadata": {},
     "output_type": "display_data"
    }
   ],
   "source": [
    "\n",
    "fig, ax= plt.subplots(1, 1, constrained_layout =True)\n",
    "\n",
    "# Plotando valor de Graham atual vs COtação\n",
    "ax.axhline(y=graham, color='green', linestyle='dashed', label=f'Graham: R${graham:.2f}')\n",
    "ax.axhline(y=safetyMargin, color='red', linestyle='dashed', label=f'Margem de segurança ({safetypercent}%): R${safetyMargin:.2f}')\n",
    "ax.plot(tickerDf['Close'], label='Preço de fechamento')\n",
    "\n",
    "despine(ax)\n",
    "\n",
    "fig.suptitle(f\"Preço da {yahooTicker} ao longo do tempo\")\n",
    "\n",
    "ax.legend()"
   ]
  }
 ],
 "metadata": {
  "kernelspec": {
   "display_name": "venv",
   "language": "python",
   "name": "python3"
  },
  "language_info": {
   "codemirror_mode": {
    "name": "ipython",
    "version": 3
   },
   "file_extension": ".py",
   "mimetype": "text/x-python",
   "name": "python",
   "nbconvert_exporter": "python",
   "pygments_lexer": "ipython3",
   "version": "3.10.6"
  }
 },
 "nbformat": 4,
 "nbformat_minor": 2
}
